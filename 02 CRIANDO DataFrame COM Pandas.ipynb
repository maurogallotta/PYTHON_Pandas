{
 "cells": [
  {
   "cell_type": "markdown",
   "id": "06520335",
   "metadata": {},
   "source": [
    "## CRIANDO DATAFRAME COM (PANDAS)"
   ]
  },
  {
   "cell_type": "code",
   "execution_count": 1,
   "id": "04360471",
   "metadata": {},
   "outputs": [],
   "source": [
    "# IMPORTAR O PACOTE PANDAS O MODULO DATAFRAME\n",
    "from pandas import DataFrame"
   ]
  },
  {
   "cell_type": "code",
   "execution_count": 2,
   "id": "4c329654",
   "metadata": {},
   "outputs": [
    {
     "data": {
      "text/html": [
       "<div>\n",
       "<style scoped>\n",
       "    .dataframe tbody tr th:only-of-type {\n",
       "        vertical-align: middle;\n",
       "    }\n",
       "\n",
       "    .dataframe tbody tr th {\n",
       "        vertical-align: top;\n",
       "    }\n",
       "\n",
       "    .dataframe thead th {\n",
       "        text-align: right;\n",
       "    }\n",
       "</style>\n",
       "<table border=\"1\" class=\"dataframe\">\n",
       "  <thead>\n",
       "    <tr style=\"text-align: right;\">\n",
       "      <th></th>\n",
       "      <th>estado</th>\n",
       "      <th>ano</th>\n",
       "      <th>população</th>\n",
       "    </tr>\n",
       "  </thead>\n",
       "  <tbody>\n",
       "    <tr>\n",
       "      <th>0</th>\n",
       "      <td>são paulo</td>\n",
       "      <td>2002</td>\n",
       "      <td>1.7</td>\n",
       "    </tr>\n",
       "    <tr>\n",
       "      <th>1</th>\n",
       "      <td>rio de janeiro</td>\n",
       "      <td>2005</td>\n",
       "      <td>2.5</td>\n",
       "    </tr>\n",
       "    <tr>\n",
       "      <th>2</th>\n",
       "      <td>paraná</td>\n",
       "      <td>2008</td>\n",
       "      <td>1.4</td>\n",
       "    </tr>\n",
       "    <tr>\n",
       "      <th>3</th>\n",
       "      <td>minas gerais</td>\n",
       "      <td>2025</td>\n",
       "      <td>3.2</td>\n",
       "    </tr>\n",
       "    <tr>\n",
       "      <th>4</th>\n",
       "      <td>amazonia</td>\n",
       "      <td>2017</td>\n",
       "      <td>2.0</td>\n",
       "    </tr>\n",
       "  </tbody>\n",
       "</table>\n",
       "</div>"
      ],
      "text/plain": [
       "           estado   ano  população\n",
       "0       são paulo  2002        1.7\n",
       "1  rio de janeiro  2005        2.5\n",
       "2          paraná  2008        1.4\n",
       "3    minas gerais  2025        3.2\n",
       "4        amazonia  2017        2.0"
      ]
     },
     "execution_count": 2,
     "metadata": {},
     "output_type": "execute_result"
    }
   ],
   "source": [
    "# CRIA O DATABASE\n",
    "data = {'estado':['são paulo','rio de janeiro','paraná','minas gerais','amazonia'],\n",
    "        'ano':[2002,2005,2008,2025,2017],\n",
    "        'população':[1.7,2.5,1.4,3.2,2.0]}\n",
    "frame01 = DataFrame(data)\n",
    "frame01"
   ]
  },
  {
   "cell_type": "code",
   "execution_count": 3,
   "id": "840732d1",
   "metadata": {},
   "outputs": [
    {
     "data": {
      "text/plain": [
       "pandas.core.frame.DataFrame"
      ]
     },
     "execution_count": 3,
     "metadata": {},
     "output_type": "execute_result"
    }
   ],
   "source": [
    "type(frame01)"
   ]
  },
  {
   "cell_type": "code",
   "execution_count": 4,
   "id": "78ac555b",
   "metadata": {},
   "outputs": [
    {
     "data": {
      "text/html": [
       "<div>\n",
       "<style scoped>\n",
       "    .dataframe tbody tr th:only-of-type {\n",
       "        vertical-align: middle;\n",
       "    }\n",
       "\n",
       "    .dataframe tbody tr th {\n",
       "        vertical-align: top;\n",
       "    }\n",
       "\n",
       "    .dataframe thead th {\n",
       "        text-align: right;\n",
       "    }\n",
       "</style>\n",
       "<table border=\"1\" class=\"dataframe\">\n",
       "  <thead>\n",
       "    <tr style=\"text-align: right;\">\n",
       "      <th></th>\n",
       "      <th>população</th>\n",
       "      <th>estado</th>\n",
       "      <th>ano</th>\n",
       "    </tr>\n",
       "  </thead>\n",
       "  <tbody>\n",
       "    <tr>\n",
       "      <th>0</th>\n",
       "      <td>1.7</td>\n",
       "      <td>são paulo</td>\n",
       "      <td>2002</td>\n",
       "    </tr>\n",
       "    <tr>\n",
       "      <th>1</th>\n",
       "      <td>2.5</td>\n",
       "      <td>rio de janeiro</td>\n",
       "      <td>2005</td>\n",
       "    </tr>\n",
       "    <tr>\n",
       "      <th>2</th>\n",
       "      <td>1.4</td>\n",
       "      <td>paraná</td>\n",
       "      <td>2008</td>\n",
       "    </tr>\n",
       "    <tr>\n",
       "      <th>3</th>\n",
       "      <td>3.2</td>\n",
       "      <td>minas gerais</td>\n",
       "      <td>2025</td>\n",
       "    </tr>\n",
       "    <tr>\n",
       "      <th>4</th>\n",
       "      <td>2.0</td>\n",
       "      <td>amazonia</td>\n",
       "      <td>2017</td>\n",
       "    </tr>\n",
       "  </tbody>\n",
       "</table>\n",
       "</div>"
      ],
      "text/plain": [
       "   população          estado   ano\n",
       "0        1.7       são paulo  2002\n",
       "1        2.5  rio de janeiro  2005\n",
       "2        1.4          paraná  2008\n",
       "3        3.2    minas gerais  2025\n",
       "4        2.0        amazonia  2017"
      ]
     },
     "execution_count": 4,
     "metadata": {},
     "output_type": "execute_result"
    }
   ],
   "source": [
    "# DA ORDEM AS COLUNAS DO DATABASE\n",
    "DataFrame(data, columns= ['população','estado','ano'])"
   ]
  },
  {
   "cell_type": "code",
   "execution_count": 5,
   "id": "97d644fa",
   "metadata": {},
   "outputs": [
    {
     "data": {
      "text/html": [
       "<div>\n",
       "<style scoped>\n",
       "    .dataframe tbody tr th:only-of-type {\n",
       "        vertical-align: middle;\n",
       "    }\n",
       "\n",
       "    .dataframe tbody tr th {\n",
       "        vertical-align: top;\n",
       "    }\n",
       "\n",
       "    .dataframe thead th {\n",
       "        text-align: right;\n",
       "    }\n",
       "</style>\n",
       "<table border=\"1\" class=\"dataframe\">\n",
       "  <thead>\n",
       "    <tr style=\"text-align: right;\">\n",
       "      <th></th>\n",
       "      <th>estado</th>\n",
       "      <th>ano</th>\n",
       "      <th>população</th>\n",
       "      <th>debito</th>\n",
       "    </tr>\n",
       "  </thead>\n",
       "  <tbody>\n",
       "    <tr>\n",
       "      <th>um</th>\n",
       "      <td>são paulo</td>\n",
       "      <td>2002</td>\n",
       "      <td>1.7</td>\n",
       "      <td>NaN</td>\n",
       "    </tr>\n",
       "    <tr>\n",
       "      <th>dois</th>\n",
       "      <td>rio de janeiro</td>\n",
       "      <td>2005</td>\n",
       "      <td>2.5</td>\n",
       "      <td>NaN</td>\n",
       "    </tr>\n",
       "    <tr>\n",
       "      <th>treis</th>\n",
       "      <td>paraná</td>\n",
       "      <td>2008</td>\n",
       "      <td>1.4</td>\n",
       "      <td>NaN</td>\n",
       "    </tr>\n",
       "    <tr>\n",
       "      <th>quatro</th>\n",
       "      <td>minas gerais</td>\n",
       "      <td>2025</td>\n",
       "      <td>3.2</td>\n",
       "      <td>NaN</td>\n",
       "    </tr>\n",
       "    <tr>\n",
       "      <th>cinco</th>\n",
       "      <td>amazonia</td>\n",
       "      <td>2017</td>\n",
       "      <td>2.0</td>\n",
       "      <td>NaN</td>\n",
       "    </tr>\n",
       "  </tbody>\n",
       "</table>\n",
       "</div>"
      ],
      "text/plain": [
       "                estado   ano  população debito\n",
       "um           são paulo  2002        1.7    NaN\n",
       "dois    rio de janeiro  2005        2.5    NaN\n",
       "treis           paraná  2008        1.4    NaN\n",
       "quatro    minas gerais  2025        3.2    NaN\n",
       "cinco         amazonia  2017        2.0    NaN"
      ]
     },
     "execution_count": 5,
     "metadata": {},
     "output_type": "execute_result"
    }
   ],
   "source": [
    "# ADDICIONA UMA COLUNA E INDICES AO DATAFRAME\n",
    "frame02 = DataFrame(data,\n",
    "                   columns=['estado','ano','população','debito'],\n",
    "                    index=['um','dois','treis','quatro','cinco'])\n",
    "frame02"
   ]
  },
  {
   "cell_type": "code",
   "execution_count": 6,
   "id": "851e8b0e",
   "metadata": {},
   "outputs": [
    {
     "data": {
      "text/plain": [
       "um             são paulo\n",
       "dois      rio de janeiro\n",
       "treis             paraná\n",
       "quatro      minas gerais\n",
       "cinco           amazonia\n",
       "Name: estado, dtype: object"
      ]
     },
     "execution_count": 6,
     "metadata": {},
     "output_type": "execute_result"
    }
   ],
   "source": [
    "# CHAMA O INDICE E COLUNA\n",
    "frame02['estado']"
   ]
  },
  {
   "cell_type": "code",
   "execution_count": 7,
   "id": "c1267fbd",
   "metadata": {},
   "outputs": [
    {
     "data": {
      "text/plain": [
       "um        2002\n",
       "dois      2005\n",
       "treis     2008\n",
       "quatro    2025\n",
       "cinco     2017\n",
       "Name: ano, dtype: int64"
      ]
     },
     "execution_count": 7,
     "metadata": {},
     "output_type": "execute_result"
    }
   ],
   "source": [
    "# CHAMA O INDICE E COLUNA\n",
    "frame02.ano"
   ]
  },
  {
   "cell_type": "code",
   "execution_count": 8,
   "id": "356a116d",
   "metadata": {},
   "outputs": [
    {
     "data": {
      "text/plain": [
       "pandas.core.frame.DataFrame"
      ]
     },
     "execution_count": 8,
     "metadata": {},
     "output_type": "execute_result"
    }
   ],
   "source": [
    "# FORMATO DA VARIAVEL\n",
    "type(frame02)"
   ]
  },
  {
   "cell_type": "code",
   "execution_count": 9,
   "id": "7c6f6776",
   "metadata": {},
   "outputs": [
    {
     "data": {
      "text/plain": [
       "Index(['um', 'dois', 'treis', 'quatro', 'cinco'], dtype='object')"
      ]
     },
     "execution_count": 9,
     "metadata": {},
     "output_type": "execute_result"
    }
   ],
   "source": [
    "# INDEXAÇÃO\n",
    "frame02.index"
   ]
  },
  {
   "cell_type": "code",
   "execution_count": 10,
   "id": "d749d239",
   "metadata": {},
   "outputs": [
    {
     "data": {
      "text/plain": [
       "Index(['estado', 'ano', 'população', 'debito'], dtype='object')"
      ]
     },
     "execution_count": 10,
     "metadata": {},
     "output_type": "execute_result"
    }
   ],
   "source": [
    "# COLUNAS\n",
    "frame02.columns"
   ]
  },
  {
   "cell_type": "code",
   "execution_count": 11,
   "id": "5e5ec098",
   "metadata": {
    "scrolled": true
   },
   "outputs": [
    {
     "data": {
      "text/plain": [
       "array([['são paulo', 2002, 1.7, nan],\n",
       "       ['rio de janeiro', 2005, 2.5, nan],\n",
       "       ['paraná', 2008, 1.4, nan],\n",
       "       ['minas gerais', 2025, 3.2, nan],\n",
       "       ['amazonia', 2017, 2.0, nan]], dtype=object)"
      ]
     },
     "execution_count": 11,
     "metadata": {},
     "output_type": "execute_result"
    }
   ],
   "source": [
    "# VALORES DA VARIAVEL\n",
    "frame02.values"
   ]
  },
  {
   "cell_type": "code",
   "execution_count": 12,
   "id": "e76f7aba",
   "metadata": {},
   "outputs": [
    {
     "data": {
      "text/plain": [
       "estado        object\n",
       "ano            int64\n",
       "população    float64\n",
       "debito        object\n",
       "dtype: object"
      ]
     },
     "execution_count": 12,
     "metadata": {},
     "output_type": "execute_result"
    }
   ],
   "source": [
    "# TIPOS DE ITEM PARA CADA COLUNA\n",
    "frame02.dtypes"
   ]
  },
  {
   "cell_type": "code",
   "execution_count": 13,
   "id": "d5b82a89",
   "metadata": {},
   "outputs": [
    {
     "data": {
      "text/html": [
       "<div>\n",
       "<style scoped>\n",
       "    .dataframe tbody tr th:only-of-type {\n",
       "        vertical-align: middle;\n",
       "    }\n",
       "\n",
       "    .dataframe tbody tr th {\n",
       "        vertical-align: top;\n",
       "    }\n",
       "\n",
       "    .dataframe thead th {\n",
       "        text-align: right;\n",
       "    }\n",
       "</style>\n",
       "<table border=\"1\" class=\"dataframe\">\n",
       "  <thead>\n",
       "    <tr style=\"text-align: right;\">\n",
       "      <th></th>\n",
       "      <th>estado</th>\n",
       "      <th>ano</th>\n",
       "      <th>população</th>\n",
       "      <th>debito</th>\n",
       "    </tr>\n",
       "  </thead>\n",
       "  <tbody>\n",
       "    <tr>\n",
       "      <th>um</th>\n",
       "      <td>são paulo</td>\n",
       "      <td>2002</td>\n",
       "      <td>1.7</td>\n",
       "      <td>NaN</td>\n",
       "    </tr>\n",
       "    <tr>\n",
       "      <th>dois</th>\n",
       "      <td>rio de janeiro</td>\n",
       "      <td>2005</td>\n",
       "      <td>2.5</td>\n",
       "      <td>NaN</td>\n",
       "    </tr>\n",
       "  </tbody>\n",
       "</table>\n",
       "</div>"
      ],
      "text/plain": [
       "              estado   ano  população debito\n",
       "um         são paulo  2002        1.7    NaN\n",
       "dois  rio de janeiro  2005        2.5    NaN"
      ]
     },
     "execution_count": 13,
     "metadata": {},
     "output_type": "execute_result"
    }
   ],
   "source": [
    "# FAZEMOS (SLICING) = FATIAMENTO DE TABELA EM LINHAS\n",
    "frame02[0:2]"
   ]
  },
  {
   "cell_type": "code",
   "execution_count": 15,
   "id": "9de40484",
   "metadata": {},
   "outputs": [
    {
     "data": {
      "text/plain": [
       "array([['são paulo', 2002, 1.7, nan],\n",
       "       ['rio de janeiro', 2005, 2.5, nan],\n",
       "       ['paraná', 2008, 1.4, nan],\n",
       "       ['minas gerais', 2025, 3.2, nan],\n",
       "       ['amazonia', 2017, 2.0, nan]], dtype=object)"
      ]
     },
     "execution_count": 15,
     "metadata": {},
     "output_type": "execute_result"
    }
   ],
   "source": [
    "frame02.values"
   ]
  },
  {
   "cell_type": "code",
   "execution_count": 16,
   "id": "2f12c587",
   "metadata": {},
   "outputs": [
    {
     "data": {
      "text/html": [
       "<div>\n",
       "<style scoped>\n",
       "    .dataframe tbody tr th:only-of-type {\n",
       "        vertical-align: middle;\n",
       "    }\n",
       "\n",
       "    .dataframe tbody tr th {\n",
       "        vertical-align: top;\n",
       "    }\n",
       "\n",
       "    .dataframe thead th {\n",
       "        text-align: right;\n",
       "    }\n",
       "</style>\n",
       "<table border=\"1\" class=\"dataframe\">\n",
       "  <thead>\n",
       "    <tr style=\"text-align: right;\">\n",
       "      <th></th>\n",
       "      <th>ano</th>\n",
       "      <th>população</th>\n",
       "    </tr>\n",
       "  </thead>\n",
       "  <tbody>\n",
       "    <tr>\n",
       "      <th>count</th>\n",
       "      <td>5.000000</td>\n",
       "      <td>5.000000</td>\n",
       "    </tr>\n",
       "    <tr>\n",
       "      <th>mean</th>\n",
       "      <td>2011.400000</td>\n",
       "      <td>2.160000</td>\n",
       "    </tr>\n",
       "    <tr>\n",
       "      <th>std</th>\n",
       "      <td>9.449868</td>\n",
       "      <td>0.709225</td>\n",
       "    </tr>\n",
       "    <tr>\n",
       "      <th>min</th>\n",
       "      <td>2002.000000</td>\n",
       "      <td>1.400000</td>\n",
       "    </tr>\n",
       "    <tr>\n",
       "      <th>25%</th>\n",
       "      <td>2005.000000</td>\n",
       "      <td>1.700000</td>\n",
       "    </tr>\n",
       "    <tr>\n",
       "      <th>50%</th>\n",
       "      <td>2008.000000</td>\n",
       "      <td>2.000000</td>\n",
       "    </tr>\n",
       "    <tr>\n",
       "      <th>75%</th>\n",
       "      <td>2017.000000</td>\n",
       "      <td>2.500000</td>\n",
       "    </tr>\n",
       "    <tr>\n",
       "      <th>max</th>\n",
       "      <td>2025.000000</td>\n",
       "      <td>3.200000</td>\n",
       "    </tr>\n",
       "  </tbody>\n",
       "</table>\n",
       "</div>"
      ],
      "text/plain": [
       "               ano  população\n",
       "count     5.000000   5.000000\n",
       "mean   2011.400000   2.160000\n",
       "std       9.449868   0.709225\n",
       "min    2002.000000   1.400000\n",
       "25%    2005.000000   1.700000\n",
       "50%    2008.000000   2.000000\n",
       "75%    2017.000000   2.500000\n",
       "max    2025.000000   3.200000"
      ]
     },
     "execution_count": 16,
     "metadata": {},
     "output_type": "execute_result"
    }
   ],
   "source": [
    "frame02.describe()"
   ]
  },
  {
   "cell_type": "code",
   "execution_count": 17,
   "id": "7104e326",
   "metadata": {
    "scrolled": true
   },
   "outputs": [
    {
     "data": {
      "text/html": [
       "<div>\n",
       "<style scoped>\n",
       "    .dataframe tbody tr th:only-of-type {\n",
       "        vertical-align: middle;\n",
       "    }\n",
       "\n",
       "    .dataframe tbody tr th {\n",
       "        vertical-align: top;\n",
       "    }\n",
       "\n",
       "    .dataframe thead th {\n",
       "        text-align: right;\n",
       "    }\n",
       "</style>\n",
       "<table border=\"1\" class=\"dataframe\">\n",
       "  <thead>\n",
       "    <tr style=\"text-align: right;\">\n",
       "      <th></th>\n",
       "      <th>estado</th>\n",
       "      <th>ano</th>\n",
       "      <th>população</th>\n",
       "      <th>debito</th>\n",
       "    </tr>\n",
       "  </thead>\n",
       "  <tbody>\n",
       "    <tr>\n",
       "      <th>dois</th>\n",
       "      <td>rio de janeiro</td>\n",
       "      <td>2005</td>\n",
       "      <td>2.5</td>\n",
       "      <td>NaN</td>\n",
       "    </tr>\n",
       "    <tr>\n",
       "      <th>treis</th>\n",
       "      <td>paraná</td>\n",
       "      <td>2008</td>\n",
       "      <td>1.4</td>\n",
       "      <td>NaN</td>\n",
       "    </tr>\n",
       "    <tr>\n",
       "      <th>quatro</th>\n",
       "      <td>minas gerais</td>\n",
       "      <td>2025</td>\n",
       "      <td>3.2</td>\n",
       "      <td>NaN</td>\n",
       "    </tr>\n",
       "  </tbody>\n",
       "</table>\n",
       "</div>"
      ],
      "text/plain": [
       "                estado   ano  população debito\n",
       "dois    rio de janeiro  2005        2.5    NaN\n",
       "treis           paraná  2008        1.4    NaN\n",
       "quatro    minas gerais  2025        3.2    NaN"
      ]
     },
     "execution_count": 17,
     "metadata": {},
     "output_type": "execute_result"
    }
   ],
   "source": [
    "frame02['dois':'quatro']"
   ]
  },
  {
   "cell_type": "code",
   "execution_count": 18,
   "id": "c9615390",
   "metadata": {},
   "outputs": [
    {
     "data": {
      "text/plain": [
       "estado       minas gerais\n",
       "ano                  2025\n",
       "população             3.2\n",
       "debito                NaN\n",
       "Name: quatro, dtype: object"
      ]
     },
     "execution_count": 18,
     "metadata": {},
     "output_type": "execute_result"
    }
   ],
   "source": [
    "frame02.loc['quatro']"
   ]
  },
  {
   "cell_type": "code",
   "execution_count": 19,
   "id": "bcc72762",
   "metadata": {},
   "outputs": [
    {
     "data": {
      "text/plain": [
       "estado       minas gerais\n",
       "ano                  2025\n",
       "população             3.2\n",
       "debito                NaN\n",
       "Name: quatro, dtype: object"
      ]
     },
     "execution_count": 19,
     "metadata": {},
     "output_type": "execute_result"
    }
   ],
   "source": [
    "frame02.iloc[3]"
   ]
  },
  {
   "cell_type": "code",
   "execution_count": 20,
   "id": "a0ecb3c3",
   "metadata": {},
   "outputs": [
    {
     "data": {
      "text/plain": [
       "{'site': ['mgsitesanddhost.com',\n",
       "  'mgviagens.com',\n",
       "  'maurogallotta.com',\n",
       "  'examesnamao.com.br'],\n",
       " 'dias': ['22/01', '22/05', '24/05', '30/06'],\n",
       " 'visitantes': ['20000', '12345', '4040', '103'],\n",
       " 'taxas': [2.5, 3.9, 7.8, 9.2]}"
      ]
     },
     "execution_count": 20,
     "metadata": {},
     "output_type": "execute_result"
    }
   ],
   "source": [
    "web_status = {'site': ['mgsitesanddhost.com','mgviagens.com','maurogallotta.com','examesnamao.com.br'],\n",
    "              'dias':['22/01','22/05','24/05','30/06'],\n",
    "              'visitantes':['20000','12345','4040','103'],\n",
    "              'taxas':[2.5,3.9,7.8,9.2]}\n",
    "web_status"
   ]
  },
  {
   "cell_type": "code",
   "execution_count": 21,
   "id": "1dd01a66",
   "metadata": {},
   "outputs": [
    {
     "data": {
      "text/plain": [
       "pandas.core.frame.DataFrame"
      ]
     },
     "execution_count": 21,
     "metadata": {},
     "output_type": "execute_result"
    }
   ],
   "source": [
    "web_status_df = DataFrame(web_status)\n",
    "type(web_status_df)"
   ]
  },
  {
   "cell_type": "code",
   "execution_count": 22,
   "id": "22a778e1",
   "metadata": {},
   "outputs": [
    {
     "name": "stdout",
     "output_type": "stream",
     "text": [
      "                  site   dias visitantes  taxas\n",
      "0  mgsitesanddhost.com  22/01      20000    2.5\n",
      "1        mgviagens.com  22/05      12345    3.9\n",
      "2    maurogallotta.com  24/05       4040    7.8\n",
      "3   examesnamao.com.br  30/06        103    9.2\n"
     ]
    }
   ],
   "source": [
    "print(web_status_df)"
   ]
  },
  {
   "cell_type": "code",
   "execution_count": 23,
   "id": "6ac8d0b3",
   "metadata": {},
   "outputs": [
    {
     "name": "stdout",
     "output_type": "stream",
     "text": [
      "                      site   dias visitantes\n",
      "taxas                                       \n",
      "2.5    mgsitesanddhost.com  22/01      20000\n",
      "3.9          mgviagens.com  22/05      12345\n",
      "7.8      maurogallotta.com  24/05       4040\n",
      "9.2     examesnamao.com.br  30/06        103\n"
     ]
    }
   ],
   "source": [
    "print(web_status_df.set_index('taxas'))"
   ]
  },
  {
   "cell_type": "code",
   "execution_count": 24,
   "id": "c7a28612",
   "metadata": {},
   "outputs": [
    {
     "name": "stdout",
     "output_type": "stream",
     "text": [
      "   taxas   dias\n",
      "0    2.5  22/01\n",
      "1    3.9  22/05\n",
      "2    7.8  24/05\n",
      "3    9.2  30/06\n"
     ]
    }
   ],
   "source": [
    "print(web_status_df[['taxas','dias']])"
   ]
  },
  {
   "cell_type": "markdown",
   "id": "9374d1de",
   "metadata": {},
   "source": [
    "## Panda  & NumPy"
   ]
  },
  {
   "cell_type": "code",
   "execution_count": null,
   "id": "89dec905",
   "metadata": {},
   "outputs": [],
   "source": [
    "# IMPORTANDO NUMPY\n",
    "import numpy as np"
   ]
  },
  {
   "cell_type": "code",
   "execution_count": 14,
   "id": "0a99f60c",
   "metadata": {},
   "outputs": [
    {
     "ename": "NameError",
     "evalue": "name 'np' is not defined",
     "output_type": "error",
     "traceback": [
      "\u001b[1;31m---------------------------------------------------------------------------\u001b[0m",
      "\u001b[1;31mNameError\u001b[0m                                 Traceback (most recent call last)",
      "\u001b[1;32m<ipython-input-14-55932b5b4db4>\u001b[0m in \u001b[0;36m<module>\u001b[1;34m\u001b[0m\n\u001b[1;32m----> 1\u001b[1;33m \u001b[0mframe02\u001b[0m\u001b[1;33m[\u001b[0m\u001b[1;34m'debito'\u001b[0m\u001b[1;33m]\u001b[0m \u001b[1;33m=\u001b[0m \u001b[0mnp\u001b[0m\u001b[1;33m.\u001b[0m\u001b[0marange\u001b[0m\u001b[1;33m(\u001b[0m\u001b[1;36m5.\u001b[0m\u001b[1;33m)\u001b[0m\u001b[1;33m\u001b[0m\u001b[1;33m\u001b[0m\u001b[0m\n\u001b[0m\u001b[0;32m      2\u001b[0m \u001b[0mframe02\u001b[0m\u001b[1;33m\u001b[0m\u001b[1;33m\u001b[0m\u001b[0m\n",
      "\u001b[1;31mNameError\u001b[0m: name 'np' is not defined"
     ]
    }
   ],
   "source": [
    "frame02['debito'] = np.arange(5.)\n",
    "frame02"
   ]
  }
 ],
 "metadata": {
  "kernelspec": {
   "display_name": "Python 3",
   "language": "python",
   "name": "python3"
  },
  "language_info": {
   "codemirror_mode": {
    "name": "ipython",
    "version": 3
   },
   "file_extension": ".py",
   "mimetype": "text/x-python",
   "name": "python",
   "nbconvert_exporter": "python",
   "pygments_lexer": "ipython3",
   "version": "3.8.8"
  }
 },
 "nbformat": 4,
 "nbformat_minor": 5
}
