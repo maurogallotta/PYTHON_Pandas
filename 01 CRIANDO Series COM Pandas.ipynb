{
 "cells": [
  {
   "cell_type": "code",
   "execution_count": 3,
   "id": "383760a3",
   "metadata": {},
   "outputs": [],
   "source": [
    "# IMPORTADO O PACOTE E O MODULO\n",
    "from pandas import Series\n",
    "import pandas as pd"
   ]
  },
  {
   "cell_type": "code",
   "execution_count": 4,
   "id": "f0e7ace7",
   "metadata": {},
   "outputs": [
    {
     "data": {
      "text/plain": [
       "'1.2.4'"
      ]
     },
     "execution_count": 4,
     "metadata": {},
     "output_type": "execute_result"
    }
   ],
   "source": [
    "# VENDO A VERSÃO DO PANDA\n",
    "pd.__version__"
   ]
  },
  {
   "cell_type": "markdown",
   "id": "50e926d3",
   "metadata": {},
   "source": [
    "## CRIAÇÃO DE Series em Pandas"
   ]
  },
  {
   "cell_type": "code",
   "execution_count": 28,
   "id": "2f999c1d",
   "metadata": {},
   "outputs": [
    {
     "data": {
      "text/plain": [
       "0    67\n",
       "1    78\n",
       "2   -12\n",
       "3    44\n",
       "4    43\n",
       "dtype: int64"
      ]
     },
     "execution_count": 28,
     "metadata": {},
     "output_type": "execute_result"
    }
   ],
   "source": [
    "# # CRIANDO SÉRIES DE DADOS\n",
    "obj01 = Series([67,78,-12,44,43])\n",
    "obj01"
   ]
  },
  {
   "cell_type": "code",
   "execution_count": 29,
   "id": "b1796b20",
   "metadata": {},
   "outputs": [
    {
     "data": {
      "text/plain": [
       "pandas.core.series.Series"
      ]
     },
     "execution_count": 29,
     "metadata": {},
     "output_type": "execute_result"
    }
   ],
   "source": [
    "# CONHEÇENDO O TIPO DE OBJETO\n",
    "type(obj01)"
   ]
  },
  {
   "cell_type": "code",
   "execution_count": 30,
   "id": "c6fa1bd1",
   "metadata": {},
   "outputs": [
    {
     "data": {
      "text/plain": [
       "array([ 67,  78, -12,  44,  43], dtype=int64)"
      ]
     },
     "execution_count": 30,
     "metadata": {},
     "output_type": "execute_result"
    }
   ],
   "source": [
    "# VISUALIZANDO OS VALORES\n",
    "obj01.values"
   ]
  },
  {
   "cell_type": "code",
   "execution_count": 31,
   "id": "9511d154",
   "metadata": {},
   "outputs": [
    {
     "data": {
      "text/plain": [
       "RangeIndex(start=0, stop=5, step=1)"
      ]
     },
     "execution_count": 31,
     "metadata": {},
     "output_type": "execute_result"
    }
   ],
   "source": [
    "# VISUALIZANDO A INDEXAÇÃO\n",
    "obj01.index"
   ]
  },
  {
   "cell_type": "code",
   "execution_count": 32,
   "id": "a5f4fcf2",
   "metadata": {},
   "outputs": [
    {
     "data": {
      "text/plain": [
       "a     80\n",
       "b     43\n",
       "c     66\n",
       "d     78\n",
       "e    -44\n",
       "f    -67\n",
       "g   -200\n",
       "dtype: int64"
      ]
     },
     "execution_count": 32,
     "metadata": {},
     "output_type": "execute_result"
    }
   ],
   "source": [
    "# CRIAR SERIES COM INDEXAÇÃO\n",
    "obj02 = Series([ 80,43,66,78,-44,-67,-200], index = ['a','b','c','d','e','f','g'])\n",
    "obj02"
   ]
  },
  {
   "cell_type": "code",
   "execution_count": 33,
   "id": "1dfaa1ce",
   "metadata": {},
   "outputs": [
    {
     "data": {
      "text/plain": [
       "array([  80,   43,   66,   78,  -44,  -67, -200], dtype=int64)"
      ]
     },
     "execution_count": 33,
     "metadata": {},
     "output_type": "execute_result"
    }
   ],
   "source": [
    "# ESTRAIDO VALORES\n",
    "obj02.values"
   ]
  },
  {
   "cell_type": "code",
   "execution_count": 34,
   "id": "b1462286",
   "metadata": {},
   "outputs": [
    {
     "data": {
      "text/plain": [
       "Index(['a', 'b', 'c', 'd', 'e', 'f', 'g'], dtype='object')"
      ]
     },
     "execution_count": 34,
     "metadata": {},
     "output_type": "execute_result"
    }
   ],
   "source": [
    "# ESTRAINDO INDEXAÇÃO\n",
    "obj02.index"
   ]
  },
  {
   "cell_type": "code",
   "execution_count": 35,
   "id": "84e8fe09",
   "metadata": {},
   "outputs": [
    {
     "data": {
      "text/plain": [
       "a    80\n",
       "b    43\n",
       "c    66\n",
       "d    78\n",
       "e   -44\n",
       "dtype: int64"
      ]
     },
     "execution_count": 35,
     "metadata": {},
     "output_type": "execute_result"
    }
   ],
   "source": [
    "# ESTRAIDO SERIES COM REGRAS DE 'if'\n",
    "obj02[obj02>-50]"
   ]
  },
  {
   "cell_type": "code",
   "execution_count": 38,
   "id": "23634bc1",
   "metadata": {},
   "outputs": [
    {
     "data": {
      "text/plain": [
       "66"
      ]
     },
     "execution_count": 38,
     "metadata": {},
     "output_type": "execute_result"
    }
   ],
   "source": [
    "# ESTRAINDO NO INDICE ESCOLHEDO\n",
    "obj02[2]"
   ]
  },
  {
   "cell_type": "code",
   "execution_count": 39,
   "id": "208f861b",
   "metadata": {},
   "outputs": [
    {
     "data": {
      "text/plain": [
       "True"
      ]
     },
     "execution_count": 39,
     "metadata": {},
     "output_type": "execute_result"
    }
   ],
   "source": [
    "# VERIFICANDO A PRESENÇA DO OBJETO 'b'\n",
    "'b' in obj02"
   ]
  },
  {
   "cell_type": "markdown",
   "id": "c867d651",
   "metadata": {},
   "source": [
    "## MANIPULAÇÃO DE Series em Pandas"
   ]
  },
  {
   "cell_type": "code",
   "execution_count": 75,
   "id": "4400ab52",
   "metadata": {},
   "outputs": [],
   "source": [
    "# CRIANDO SÉRIES DE DADOS PASSANDO COM DICIONÁRIO COMO PARÁMETRO\n",
    "dicionario = {'pizza':200, 'salame':12, 'salsicia':23, 'banana': 11, 'carne':-78, 'gelo':4, 'uva':67 }"
   ]
  },
  {
   "cell_type": "code",
   "execution_count": 77,
   "id": "5ab9f0dc",
   "metadata": {},
   "outputs": [
    {
     "data": {
      "text/plain": [
       "pizza       200\n",
       "salame       12\n",
       "salsicia     23\n",
       "banana       11\n",
       "carne       -78\n",
       "gelo          4\n",
       "uva          67\n",
       "dtype: int64"
      ]
     },
     "execution_count": 77,
     "metadata": {},
     "output_type": "execute_result"
    }
   ],
   "source": [
    "# CRIAMOS UMA SÉRIES A PARTIR DE DICIONÁRIO\n",
    "obj03 = Series(dicionario)\n",
    "obj03"
   ]
  },
  {
   "cell_type": "code",
   "execution_count": 66,
   "id": "de7df434",
   "metadata": {},
   "outputs": [
    {
     "data": {
      "text/plain": [
       "pandas.core.series.Series"
      ]
     },
     "execution_count": 66,
     "metadata": {},
     "output_type": "execute_result"
    }
   ],
   "source": [
    "# VERIFICANDO O TYPO DE DADO\n",
    "type(obj03)"
   ]
  },
  {
   "cell_type": "markdown",
   "id": "ebc5d547",
   "metadata": {},
   "source": [
    "## CRIANDO SÉRIES DE DADOS PASSANDO COM LISTA COMO PARÁMETRO"
   ]
  },
  {
   "cell_type": "code",
   "execution_count": 70,
   "id": "9b794119",
   "metadata": {},
   "outputs": [],
   "source": [
    "# CRIANDO SÉRIES DE DADOS PASSANDO COM LISTA COMO PARÁMETRO\n",
    "cidades = ['roma','verona','firenze','rio de janeiro','madrid','são paulo','taranto']"
   ]
  },
  {
   "cell_type": "code",
   "execution_count": 78,
   "id": "f06a9955",
   "metadata": {},
   "outputs": [],
   "source": [
    "# CRIANDO SÉRIES DE DADOS PASSANDO COM LISTA PARECIDA COM \"dict\"\n",
    "pizzas = ['pizza', 'salame', 'salsicia', 'banana', 'carne', 'gelo', 'uva']"
   ]
  },
  {
   "cell_type": "code",
   "execution_count": 79,
   "id": "8db2097a",
   "metadata": {},
   "outputs": [
    {
     "data": {
      "text/plain": [
       "roma             NaN\n",
       "verona           NaN\n",
       "firenze          NaN\n",
       "rio de janeiro   NaN\n",
       "madrid           NaN\n",
       "são paulo        NaN\n",
       "taranto          NaN\n",
       "dtype: float64"
      ]
     },
     "execution_count": 79,
     "metadata": {},
     "output_type": "execute_result"
    }
   ],
   "source": [
    "obj04 = Series(dicionario, index=cidades)\n",
    "obj04"
   ]
  },
  {
   "cell_type": "code",
   "execution_count": 80,
   "id": "a3b0f1a1",
   "metadata": {},
   "outputs": [
    {
     "data": {
      "text/plain": [
       "pizza       200\n",
       "salame       12\n",
       "salsicia     23\n",
       "banana       11\n",
       "carne       -78\n",
       "gelo          4\n",
       "uva          67\n",
       "dtype: int64"
      ]
     },
     "execution_count": 80,
     "metadata": {},
     "output_type": "execute_result"
    }
   ],
   "source": [
    "# PASSANDO COM LISTA PARECIDA COM DICIONARIO\n",
    "obj05 = Series(dicionario, index=pizzas)\n",
    "obj05"
   ]
  },
  {
   "cell_type": "code",
   "execution_count": 81,
   "id": "f4fd3458",
   "metadata": {},
   "outputs": [
    {
     "data": {
      "text/plain": [
       "pizza       False\n",
       "salame      False\n",
       "salsicia    False\n",
       "banana      False\n",
       "carne       False\n",
       "gelo        False\n",
       "uva         False\n",
       "dtype: bool"
      ]
     },
     "execution_count": 81,
     "metadata": {},
     "output_type": "execute_result"
    }
   ],
   "source": [
    "# CONTROLA QUE ESTEJAM VALORES (NULOS) NA NOSSA VÁRIAVEL\n",
    "pd.isnull(obj04)"
   ]
  },
  {
   "cell_type": "code",
   "execution_count": 85,
   "id": "a4e1a2ff",
   "metadata": {},
   "outputs": [
    {
     "data": {
      "text/plain": [
       "pizza       False\n",
       "salame      False\n",
       "salsicia    False\n",
       "banana      False\n",
       "carne       False\n",
       "gelo        False\n",
       "uva         False\n",
       "dtype: bool"
      ]
     },
     "execution_count": 85,
     "metadata": {},
     "output_type": "execute_result"
    }
   ],
   "source": [
    "# CONTROLA QUE ESTEJAM VALORES (NULOS) NA NOSSA VÁRIAVEL\n",
    "pd.isnull(obj05)"
   ]
  },
  {
   "cell_type": "code",
   "execution_count": 83,
   "id": "bb22c844",
   "metadata": {},
   "outputs": [
    {
     "data": {
      "text/plain": [
       "roma              False\n",
       "verona            False\n",
       "firenze           False\n",
       "rio de janeiro    False\n",
       "madrid            False\n",
       "são paulo         False\n",
       "taranto           False\n",
       "dtype: bool"
      ]
     },
     "execution_count": 83,
     "metadata": {},
     "output_type": "execute_result"
    }
   ],
   "source": [
    "# CONTROLA QUE ESTEJAM VALORES (NÃO NULOS) NA NOSSA VÁRIAVEL\n",
    "pd.notnull(obj04)"
   ]
  },
  {
   "cell_type": "code",
   "execution_count": 86,
   "id": "baca3f51",
   "metadata": {},
   "outputs": [
    {
     "data": {
      "text/plain": [
       "pizza       True\n",
       "salame      True\n",
       "salsicia    True\n",
       "banana      True\n",
       "carne       True\n",
       "gelo        True\n",
       "uva         True\n",
       "dtype: bool"
      ]
     },
     "execution_count": 86,
     "metadata": {},
     "output_type": "execute_result"
    }
   ],
   "source": [
    "# CONTROLA QUE ESTEJAM VALORES (NÃO NULOS) NA NOSSA VÁRIAVEL\n",
    "pd.notnull(obj05)"
   ]
  },
  {
   "cell_type": "code",
   "execution_count": 93,
   "id": "3d916432",
   "metadata": {},
   "outputs": [
    {
     "data": {
      "text/plain": [
       "indexação\n",
       "pizza       200\n",
       "salame       12\n",
       "salsicia     23\n",
       "banana       11\n",
       "carne       -78\n",
       "gelo          4\n",
       "uva          67\n",
       "Name: minha_comida, dtype: int64"
      ]
     },
     "execution_count": 93,
     "metadata": {},
     "output_type": "execute_result"
    }
   ],
   "source": [
    "# MUAR O NOME DO (obj05)\n",
    "obj05.name = 'minha_comida'\n",
    "obj05"
   ]
  },
  {
   "cell_type": "code",
   "execution_count": 92,
   "id": "45cad706",
   "metadata": {},
   "outputs": [
    {
     "data": {
      "text/plain": [
       "indexação\n",
       "pizza       200\n",
       "salame       12\n",
       "salsicia     23\n",
       "banana       11\n",
       "carne       -78\n",
       "gelo          4\n",
       "uva          67\n",
       "Name: minha_comida, dtype: int64"
      ]
     },
     "execution_count": 92,
     "metadata": {},
     "output_type": "execute_result"
    }
   ],
   "source": [
    "# MUAR O NOME DA INDEXAÇÃO DO (obj05)\n",
    "obj05.index.name = 'indexação'\n",
    "obj05"
   ]
  },
  {
   "cell_type": "code",
   "execution_count": null,
   "id": "0abea4c3",
   "metadata": {},
   "outputs": [],
   "source": [
    "## CRIANDO DATAFRAME COM (PANDAS)"
   ]
  },
  {
   "cell_type": "code",
   "execution_count": null,
   "id": "1d1812f8",
   "metadata": {},
   "outputs": [],
   "source": []
  },
  {
   "cell_type": "code",
   "execution_count": null,
   "id": "cccc131d",
   "metadata": {},
   "outputs": [],
   "source": []
  },
  {
   "cell_type": "code",
   "execution_count": null,
   "id": "965d9ea4",
   "metadata": {},
   "outputs": [],
   "source": []
  },
  {
   "cell_type": "code",
   "execution_count": null,
   "id": "a420cbf4",
   "metadata": {},
   "outputs": [],
   "source": []
  },
  {
   "cell_type": "code",
   "execution_count": null,
   "id": "5f357caf",
   "metadata": {},
   "outputs": [],
   "source": []
  },
  {
   "cell_type": "code",
   "execution_count": null,
   "id": "0814e59d",
   "metadata": {},
   "outputs": [],
   "source": []
  },
  {
   "cell_type": "code",
   "execution_count": null,
   "id": "7b9f7e2b",
   "metadata": {},
   "outputs": [],
   "source": []
  },
  {
   "cell_type": "code",
   "execution_count": null,
   "id": "f42abb84",
   "metadata": {},
   "outputs": [],
   "source": []
  },
  {
   "cell_type": "code",
   "execution_count": null,
   "id": "d9d36486",
   "metadata": {},
   "outputs": [],
   "source": []
  }
 ],
 "metadata": {
  "kernelspec": {
   "display_name": "Python 3",
   "language": "python",
   "name": "python3"
  },
  "language_info": {
   "codemirror_mode": {
    "name": "ipython",
    "version": 3
   },
   "file_extension": ".py",
   "mimetype": "text/x-python",
   "name": "python",
   "nbconvert_exporter": "python",
   "pygments_lexer": "ipython3",
   "version": "3.8.8"
  }
 },
 "nbformat": 4,
 "nbformat_minor": 5
}
